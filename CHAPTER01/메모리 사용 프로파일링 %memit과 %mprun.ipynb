{
 "cells": [
  {
   "cell_type": "code",
   "execution_count": 1,
   "metadata": {},
   "outputs": [],
   "source": [
    "%load_ext memory_profiler"
   ]
  },
  {
   "cell_type": "code",
   "execution_count": 2,
   "metadata": {},
   "outputs": [
    {
     "name": "stderr",
     "output_type": "stream",
     "text": [
      "UsageError: Line magic function `%paste` not found.\n"
     ]
    }
   ],
   "source": [
    "%paste"
   ]
  },
  {
   "cell_type": "code",
   "execution_count": 3,
   "metadata": {},
   "outputs": [],
   "source": [
    "def sum_of_lists(N):\n",
    "    total = 0\n",
    "    for i in range(5):\n",
    "        L = [j ^ (j >> i) for j in range(N)]\n",
    "        total += sum(L)\n",
    "    return total"
   ]
  },
  {
   "cell_type": "code",
   "execution_count": 5,
   "metadata": {},
   "outputs": [
    {
     "name": "stdout",
     "output_type": "stream",
     "text": [
      "peak memory: 823.60 MiB, increment: 772.98 MiB\n"
     ]
    }
   ],
   "source": [
    "%memit sum_of_lists(10000000)"
   ]
  },
  {
   "cell_type": "code",
   "execution_count": 16,
   "metadata": {},
   "outputs": [
    {
     "name": "stdout",
     "output_type": "stream",
     "text": [
      "Overwriting mprun_demo1.py\n"
     ]
    }
   ],
   "source": [
    "%%file mprun_demo1.py\n",
    "def sum_of_lists(N):\n",
    "    total = 0\n",
    "    for i in range(5):\n",
    "        L = [j ^ (j >> i) for j in range(N)]\n",
    "        total += sum(L)\n",
    "        del L\n",
    "    return total"
   ]
  },
  {
   "cell_type": "code",
   "execution_count": 17,
   "metadata": {},
   "outputs": [
    {
     "name": "stdout",
     "output_type": "stream",
     "text": [
      " hi2.txt\r\n",
      "'입력출력 이력.ipynb'\r\n",
      "'에러와 디버깅.ipynb'\r\n",
      "'코드 프로파일링 및 시간 측정.ipynb'\r\n",
      "'셸과 노트북, 어느 것을 사용할까?.ipynb'\r\n",
      "'셸 관련 매직 명령어.ipynb'\r\n",
      "'IPython의 도움말과 문서.ipynb'\r\n",
      "'IPython과 셸 명령어.ipynb'\r\n",
      "'IPython 셸에서 사용할 수 있는 키보드 단축키.ipynb'\r\n",
      "'IPython 매직 명령어.ipynb'\r\n",
      "'IPython 추가 참고 자료.ipynb'\r\n",
      "'메모리 사용 프로파일링 %memit과 %mprun.ipynb'\r\n",
      " mprun_demo1.py\r\n",
      " mprun_demo.py\r\n",
      " myscript.py\r\n",
      " \u001b[0m\u001b[01;34m__pycache__\u001b[0m/\r\n",
      " \u001b[01;34mtmp\u001b[0m/\r\n",
      " \u001b[01;34mtmp1\u001b[0m/\r\n",
      " Untitled.ipynb\r\n"
     ]
    }
   ],
   "source": [
    "ls"
   ]
  },
  {
   "cell_type": "code",
   "execution_count": 18,
   "metadata": {},
   "outputs": [],
   "source": [
    "from mprun_demo1 import sum_of_lists"
   ]
  },
  {
   "cell_type": "code",
   "execution_count": 19,
   "metadata": {},
   "outputs": [
    {
     "name": "stdout",
     "output_type": "stream",
     "text": [
      "\n"
     ]
    }
   ],
   "source": [
    "%mprun -f sum_of_lists sum_of_lists(10000000)"
   ]
  },
  {
   "cell_type": "code",
   "execution_count": null,
   "metadata": {},
   "outputs": [],
   "source": []
  }
 ],
 "metadata": {
  "kernelspec": {
   "display_name": "Python 3",
   "language": "python",
   "name": "python3"
  },
  "language_info": {
   "codemirror_mode": {
    "name": "ipython",
    "version": 3
   },
   "file_extension": ".py",
   "mimetype": "text/x-python",
   "name": "python",
   "nbconvert_exporter": "python",
   "pygments_lexer": "ipython3",
   "version": "3.7.6"
  }
 },
 "nbformat": 4,
 "nbformat_minor": 4
}
