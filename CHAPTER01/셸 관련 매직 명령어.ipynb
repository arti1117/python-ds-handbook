{
 "cells": [
  {
   "cell_type": "code",
   "execution_count": 1,
   "metadata": {},
   "outputs": [
    {
     "name": "stdout",
     "output_type": "stream",
     "text": [
      "/home/arti/Projects/python-ds-handbook/CHAPTER01\r\n"
     ]
    }
   ],
   "source": [
    "!pwd"
   ]
  },
  {
   "cell_type": "code",
   "execution_count": 2,
   "metadata": {},
   "outputs": [],
   "source": [
    "!cd .."
   ]
  },
  {
   "cell_type": "code",
   "execution_count": 3,
   "metadata": {},
   "outputs": [
    {
     "name": "stdout",
     "output_type": "stream",
     "text": [
      "/home/arti/Projects/python-ds-handbook/CHAPTER01\r\n"
     ]
    }
   ],
   "source": [
    "!pwd"
   ]
  },
  {
   "cell_type": "code",
   "execution_count": 4,
   "metadata": {},
   "outputs": [
    {
     "name": "stdout",
     "output_type": "stream",
     "text": [
      "/home/arti/Projects/python-ds-handbook\n"
     ]
    }
   ],
   "source": [
    "cd .."
   ]
  },
  {
   "cell_type": "code",
   "execution_count": 5,
   "metadata": {},
   "outputs": [
    {
     "name": "stdout",
     "output_type": "stream",
     "text": [
      "/home/arti/Projects\n"
     ]
    }
   ],
   "source": [
    "%cd .."
   ]
  },
  {
   "cell_type": "code",
   "execution_count": 6,
   "metadata": {},
   "outputs": [
    {
     "data": {
      "text/plain": [
       "'/home/arti/Projects'"
      ]
     },
     "execution_count": 6,
     "metadata": {},
     "output_type": "execute_result"
    }
   ],
   "source": [
    "pwd"
   ]
  },
  {
   "cell_type": "code",
   "execution_count": 7,
   "metadata": {},
   "outputs": [
    {
     "name": "stdout",
     "output_type": "stream",
     "text": [
      "/home/arti/Projects/python-ds-handbook/CHAPTER01\n"
     ]
    }
   ],
   "source": [
    "cd python-ds-handbook/CHAPTER01"
   ]
  },
  {
   "cell_type": "code",
   "execution_count": 8,
   "metadata": {},
   "outputs": [],
   "source": [
    "mkdir tmp1"
   ]
  },
  {
   "cell_type": "code",
   "execution_count": 10,
   "metadata": {},
   "outputs": [],
   "source": [
    "man"
   ]
  },
  {
   "cell_type": "code",
   "execution_count": 11,
   "metadata": {},
   "outputs": [
    {
     "name": "stderr",
     "output_type": "stream",
     "text": [
      "UsageError: Missing filename.\n"
     ]
    }
   ],
   "source": [
    "more"
   ]
  },
  {
   "cell_type": "code",
   "execution_count": 12,
   "metadata": {},
   "outputs": [
    {
     "ename": "FileNotFoundError",
     "evalue": "[Errno 2] No such file or directory: 'hi.txt'",
     "output_type": "error",
     "traceback": [
      "\u001b[0;31m---------------------------------------------------------------------------\u001b[0m",
      "\u001b[0;31mFileNotFoundError\u001b[0m                         Traceback (most recent call last)",
      "\u001b[0;32m<ipython-input-12-d647e9d54c3c>\u001b[0m in \u001b[0;36m<module>\u001b[0;34m\u001b[0m\n\u001b[0;32m----> 1\u001b[0;31m \u001b[0mget_ipython\u001b[0m\u001b[0;34m(\u001b[0m\u001b[0;34m)\u001b[0m\u001b[0;34m.\u001b[0m\u001b[0mrun_line_magic\u001b[0m\u001b[0;34m(\u001b[0m\u001b[0;34m'more'\u001b[0m\u001b[0;34m,\u001b[0m \u001b[0;34m'hi.txt'\u001b[0m\u001b[0;34m)\u001b[0m\u001b[0;34m\u001b[0m\u001b[0;34m\u001b[0m\u001b[0m\n\u001b[0m",
      "\u001b[0;32m~/anaconda3/lib/python3.7/site-packages/IPython/core/interactiveshell.py\u001b[0m in \u001b[0;36mrun_line_magic\u001b[0;34m(self, magic_name, line, _stack_depth)\u001b[0m\n\u001b[1;32m   2325\u001b[0m                 \u001b[0mkwargs\u001b[0m\u001b[0;34m[\u001b[0m\u001b[0;34m'local_ns'\u001b[0m\u001b[0;34m]\u001b[0m \u001b[0;34m=\u001b[0m \u001b[0mself\u001b[0m\u001b[0;34m.\u001b[0m\u001b[0mget_local_scope\u001b[0m\u001b[0;34m(\u001b[0m\u001b[0mstack_depth\u001b[0m\u001b[0;34m)\u001b[0m\u001b[0;34m\u001b[0m\u001b[0;34m\u001b[0m\u001b[0m\n\u001b[1;32m   2326\u001b[0m             \u001b[0;32mwith\u001b[0m \u001b[0mself\u001b[0m\u001b[0;34m.\u001b[0m\u001b[0mbuiltin_trap\u001b[0m\u001b[0;34m:\u001b[0m\u001b[0;34m\u001b[0m\u001b[0;34m\u001b[0m\u001b[0m\n\u001b[0;32m-> 2327\u001b[0;31m                 \u001b[0mresult\u001b[0m \u001b[0;34m=\u001b[0m \u001b[0mfn\u001b[0m\u001b[0;34m(\u001b[0m\u001b[0;34m*\u001b[0m\u001b[0margs\u001b[0m\u001b[0;34m,\u001b[0m \u001b[0;34m**\u001b[0m\u001b[0mkwargs\u001b[0m\u001b[0;34m)\u001b[0m\u001b[0;34m\u001b[0m\u001b[0;34m\u001b[0m\u001b[0m\n\u001b[0m\u001b[1;32m   2328\u001b[0m             \u001b[0;32mreturn\u001b[0m \u001b[0mresult\u001b[0m\u001b[0;34m\u001b[0m\u001b[0;34m\u001b[0m\u001b[0m\n\u001b[1;32m   2329\u001b[0m \u001b[0;34m\u001b[0m\u001b[0m\n",
      "\u001b[0;32m<decorator-gen-110>\u001b[0m in \u001b[0;36mless\u001b[0;34m(self, arg_s)\u001b[0m\n",
      "\u001b[0;32m~/anaconda3/lib/python3.7/site-packages/IPython/core/magic.py\u001b[0m in \u001b[0;36m<lambda>\u001b[0;34m(f, *a, **k)\u001b[0m\n\u001b[1;32m    185\u001b[0m     \u001b[0;31m# but it's overkill for just that one bit of state.\u001b[0m\u001b[0;34m\u001b[0m\u001b[0;34m\u001b[0m\u001b[0;34m\u001b[0m\u001b[0m\n\u001b[1;32m    186\u001b[0m     \u001b[0;32mdef\u001b[0m \u001b[0mmagic_deco\u001b[0m\u001b[0;34m(\u001b[0m\u001b[0marg\u001b[0m\u001b[0;34m)\u001b[0m\u001b[0;34m:\u001b[0m\u001b[0;34m\u001b[0m\u001b[0;34m\u001b[0m\u001b[0m\n\u001b[0;32m--> 187\u001b[0;31m         \u001b[0mcall\u001b[0m \u001b[0;34m=\u001b[0m \u001b[0;32mlambda\u001b[0m \u001b[0mf\u001b[0m\u001b[0;34m,\u001b[0m \u001b[0;34m*\u001b[0m\u001b[0ma\u001b[0m\u001b[0;34m,\u001b[0m \u001b[0;34m**\u001b[0m\u001b[0mk\u001b[0m\u001b[0;34m:\u001b[0m \u001b[0mf\u001b[0m\u001b[0;34m(\u001b[0m\u001b[0;34m*\u001b[0m\u001b[0ma\u001b[0m\u001b[0;34m,\u001b[0m \u001b[0;34m**\u001b[0m\u001b[0mk\u001b[0m\u001b[0;34m)\u001b[0m\u001b[0;34m\u001b[0m\u001b[0;34m\u001b[0m\u001b[0m\n\u001b[0m\u001b[1;32m    188\u001b[0m \u001b[0;34m\u001b[0m\u001b[0m\n\u001b[1;32m    189\u001b[0m         \u001b[0;32mif\u001b[0m \u001b[0mcallable\u001b[0m\u001b[0;34m(\u001b[0m\u001b[0marg\u001b[0m\u001b[0;34m)\u001b[0m\u001b[0;34m:\u001b[0m\u001b[0;34m\u001b[0m\u001b[0;34m\u001b[0m\u001b[0m\n",
      "\u001b[0;32m~/anaconda3/lib/python3.7/site-packages/ipykernel/zmqshell.py\u001b[0m in \u001b[0;36mless\u001b[0;34m(self, arg_s)\u001b[0m\n\u001b[1;32m    340\u001b[0m             \u001b[0mcont\u001b[0m \u001b[0;34m=\u001b[0m \u001b[0mself\u001b[0m\u001b[0;34m.\u001b[0m\u001b[0mshell\u001b[0m\u001b[0;34m.\u001b[0m\u001b[0mpycolorize\u001b[0m\u001b[0;34m(\u001b[0m\u001b[0mopenpy\u001b[0m\u001b[0;34m.\u001b[0m\u001b[0mread_py_file\u001b[0m\u001b[0;34m(\u001b[0m\u001b[0marg_s\u001b[0m\u001b[0;34m,\u001b[0m \u001b[0mskip_encoding_cookie\u001b[0m\u001b[0;34m=\u001b[0m\u001b[0;32mFalse\u001b[0m\u001b[0;34m)\u001b[0m\u001b[0;34m)\u001b[0m\u001b[0;34m\u001b[0m\u001b[0;34m\u001b[0m\u001b[0m\n\u001b[1;32m    341\u001b[0m         \u001b[0;32melse\u001b[0m\u001b[0;34m:\u001b[0m\u001b[0;34m\u001b[0m\u001b[0;34m\u001b[0m\u001b[0m\n\u001b[0;32m--> 342\u001b[0;31m             \u001b[0mcont\u001b[0m \u001b[0;34m=\u001b[0m \u001b[0mopen\u001b[0m\u001b[0;34m(\u001b[0m\u001b[0marg_s\u001b[0m\u001b[0;34m)\u001b[0m\u001b[0;34m.\u001b[0m\u001b[0mread\u001b[0m\u001b[0;34m(\u001b[0m\u001b[0;34m)\u001b[0m\u001b[0;34m\u001b[0m\u001b[0;34m\u001b[0m\u001b[0m\n\u001b[0m\u001b[1;32m    343\u001b[0m         \u001b[0mpage\u001b[0m\u001b[0;34m.\u001b[0m\u001b[0mpage\u001b[0m\u001b[0;34m(\u001b[0m\u001b[0mcont\u001b[0m\u001b[0;34m)\u001b[0m\u001b[0;34m\u001b[0m\u001b[0;34m\u001b[0m\u001b[0m\n\u001b[1;32m    344\u001b[0m \u001b[0;34m\u001b[0m\u001b[0m\n",
      "\u001b[0;31mFileNotFoundError\u001b[0m: [Errno 2] No such file or directory: 'hi.txt'"
     ]
    }
   ],
   "source": [
    "more hi.txt"
   ]
  },
  {
   "cell_type": "code",
   "execution_count": 13,
   "metadata": {},
   "outputs": [],
   "source": [
    "mkdir hi.txt"
   ]
  },
  {
   "cell_type": "code",
   "execution_count": 14,
   "metadata": {},
   "outputs": [
    {
     "name": "stdout",
     "output_type": "stream",
     "text": [
      " \u001b[0m\u001b[01;34mhi.txt\u001b[0m/\r\n",
      "'입력출력 이력.ipynb'\r\n",
      "'에러와 디버깅.ipynb'\r\n",
      "'코드 프로파일링 및 시간 측정.ipynb'\r\n",
      "'셸과 노트북, 어느 것을 사용할까?.ipynb'\r\n",
      "'셸 관련 매직 명령어.ipynb'\r\n",
      "'IPython의 도움말과 문서.ipynb'\r\n",
      "'IPython과 셸 명령어.ipynb'\r\n",
      "'IPython 셸에서 사용할 수 있는 키보드 단축키.ipynb'\r\n",
      "'IPython 매직 명령어.ipynb'\r\n",
      "'IPython 추가 참고 자료.ipynb'\r\n",
      "'메모리 사용 프로파일링 %memit과 %mprun.ipynb'\r\n",
      " mprun_demo.py\r\n",
      " myscript.py\r\n",
      " \u001b[01;34mtmp\u001b[0m/\r\n",
      " \u001b[01;34mtmp1\u001b[0m/\r\n",
      " Untitled.ipynb\r\n"
     ]
    }
   ],
   "source": [
    "ls"
   ]
  },
  {
   "cell_type": "code",
   "execution_count": 15,
   "metadata": {},
   "outputs": [
    {
     "name": "stdout",
     "output_type": "stream",
     "text": [
      "cat: hi.txt: Is a directory\r\n"
     ]
    }
   ],
   "source": [
    "cat hi.txt"
   ]
  },
  {
   "cell_type": "code",
   "execution_count": 16,
   "metadata": {},
   "outputs": [
    {
     "name": "stdout",
     "output_type": "stream",
     "text": [
      " \u001b[0m\u001b[01;34mhi.txt\u001b[0m/\r\n",
      "'입력출력 이력.ipynb'\r\n",
      "'에러와 디버깅.ipynb'\r\n",
      "'코드 프로파일링 및 시간 측정.ipynb'\r\n",
      "'셸과 노트북, 어느 것을 사용할까?.ipynb'\r\n",
      "'셸 관련 매직 명령어.ipynb'\r\n",
      "'IPython의 도움말과 문서.ipynb'\r\n",
      "'IPython과 셸 명령어.ipynb'\r\n",
      "'IPython 셸에서 사용할 수 있는 키보드 단축키.ipynb'\r\n",
      "'IPython 매직 명령어.ipynb'\r\n",
      "'IPython 추가 참고 자료.ipynb'\r\n",
      "'메모리 사용 프로파일링 %memit과 %mprun.ipynb'\r\n",
      " mprun_demo.py\r\n",
      " myscript.py\r\n",
      " \u001b[01;34mtmp\u001b[0m/\r\n",
      " \u001b[01;34mtmp1\u001b[0m/\r\n",
      " Untitled.ipynb\r\n"
     ]
    }
   ],
   "source": [
    "ls"
   ]
  },
  {
   "cell_type": "code",
   "execution_count": 17,
   "metadata": {},
   "outputs": [
    {
     "name": "stdout",
     "output_type": "stream",
     "text": [
      "cat: hi1.txt: No such file or directory\r\n"
     ]
    }
   ],
   "source": [
    "cat hi1.txt"
   ]
  },
  {
   "cell_type": "code",
   "execution_count": 20,
   "metadata": {},
   "outputs": [
    {
     "name": "stdout",
     "output_type": "stream",
     "text": [
      "cat: hi.txt: Is a directory\r\n"
     ]
    }
   ],
   "source": [
    "!cat hi.txt"
   ]
  },
  {
   "cell_type": "code",
   "execution_count": 21,
   "metadata": {},
   "outputs": [
    {
     "name": "stdout",
     "output_type": "stream",
     "text": [
      "cat: hi1.txt: No such file or directory\r\n"
     ]
    }
   ],
   "source": [
    "!cat hi1.txt"
   ]
  },
  {
   "cell_type": "code",
   "execution_count": 22,
   "metadata": {},
   "outputs": [
    {
     "name": "stdout",
     "output_type": "stream",
     "text": [
      "cat: /hi1.txt: No such file or directory\r\n"
     ]
    }
   ],
   "source": [
    "!cat /hi1.txt"
   ]
  },
  {
   "cell_type": "code",
   "execution_count": 23,
   "metadata": {},
   "outputs": [
    {
     "name": "stdout",
     "output_type": "stream",
     "text": [
      "cat: adsf.txt: No such file or directory\r\n"
     ]
    }
   ],
   "source": [
    "%cat adsf.txt"
   ]
  },
  {
   "cell_type": "code",
   "execution_count": 24,
   "metadata": {},
   "outputs": [
    {
     "name": "stdout",
     "output_type": "stream",
     "text": [
      " \u001b[0m\u001b[01;34mhi.txt\u001b[0m/\r\n",
      "'입력출력 이력.ipynb'\r\n",
      "'에러와 디버깅.ipynb'\r\n",
      "'코드 프로파일링 및 시간 측정.ipynb'\r\n",
      "'셸과 노트북, 어느 것을 사용할까?.ipynb'\r\n",
      "'셸 관련 매직 명령어.ipynb'\r\n",
      "'IPython의 도움말과 문서.ipynb'\r\n",
      "'IPython과 셸 명령어.ipynb'\r\n",
      "'IPython 셸에서 사용할 수 있는 키보드 단축키.ipynb'\r\n",
      "'IPython 매직 명령어.ipynb'\r\n",
      "'IPython 추가 참고 자료.ipynb'\r\n",
      "'메모리 사용 프로파일링 %memit과 %mprun.ipynb'\r\n",
      " mprun_demo.py\r\n",
      " myscript.py\r\n",
      " \u001b[01;34mtmp\u001b[0m/\r\n",
      " \u001b[01;34mtmp1\u001b[0m/\r\n",
      " Untitled.ipynb\r\n"
     ]
    }
   ],
   "source": [
    "ls"
   ]
  },
  {
   "cell_type": "code",
   "execution_count": 26,
   "metadata": {},
   "outputs": [
    {
     "name": "stdout",
     "output_type": "stream",
     "text": [
      "^C\r\n"
     ]
    }
   ],
   "source": [
    "%cat > hi1.txt"
   ]
  },
  {
   "cell_type": "code",
   "execution_count": 27,
   "metadata": {},
   "outputs": [],
   "source": [
    "!touch hi2.txt"
   ]
  },
  {
   "cell_type": "code",
   "execution_count": 28,
   "metadata": {},
   "outputs": [
    {
     "name": "stdout",
     "output_type": "stream",
     "text": [
      " hi1.txt\r\n",
      " hi2.txt\r\n",
      " \u001b[0m\u001b[01;34mhi.txt\u001b[0m/\r\n",
      "'입력출력 이력.ipynb'\r\n",
      "'에러와 디버깅.ipynb'\r\n",
      "'코드 프로파일링 및 시간 측정.ipynb'\r\n",
      "'셸과 노트북, 어느 것을 사용할까?.ipynb'\r\n",
      "'셸 관련 매직 명령어.ipynb'\r\n",
      "'IPython의 도움말과 문서.ipynb'\r\n",
      "'IPython과 셸 명령어.ipynb'\r\n",
      "'IPython 셸에서 사용할 수 있는 키보드 단축키.ipynb'\r\n",
      "'IPython 매직 명령어.ipynb'\r\n",
      "'IPython 추가 참고 자료.ipynb'\r\n",
      "'메모리 사용 프로파일링 %memit과 %mprun.ipynb'\r\n",
      " mprun_demo.py\r\n",
      " myscript.py\r\n",
      " \u001b[01;34mtmp\u001b[0m/\r\n",
      " \u001b[01;34mtmp1\u001b[0m/\r\n",
      " Untitled.ipynb\r\n"
     ]
    }
   ],
   "source": [
    "ls"
   ]
  },
  {
   "cell_type": "code",
   "execution_count": 29,
   "metadata": {},
   "outputs": [
    {
     "name": "stdout",
     "output_type": "stream",
     "text": [
      "rm: cannot remove 'hi.txt': Is a directory\r\n"
     ]
    }
   ],
   "source": [
    "rm hi.txt"
   ]
  },
  {
   "cell_type": "code",
   "execution_count": 30,
   "metadata": {},
   "outputs": [],
   "source": [
    "rm hi1.txt"
   ]
  },
  {
   "cell_type": "code",
   "execution_count": 31,
   "metadata": {},
   "outputs": [
    {
     "name": "stdout",
     "output_type": "stream",
     "text": [
      " hi2.txt\r\n",
      " \u001b[0m\u001b[01;34mhi.txt\u001b[0m/\r\n",
      "'입력출력 이력.ipynb'\r\n",
      "'에러와 디버깅.ipynb'\r\n",
      "'코드 프로파일링 및 시간 측정.ipynb'\r\n",
      "'셸과 노트북, 어느 것을 사용할까?.ipynb'\r\n",
      "'셸 관련 매직 명령어.ipynb'\r\n",
      "'IPython의 도움말과 문서.ipynb'\r\n",
      "'IPython과 셸 명령어.ipynb'\r\n",
      "'IPython 셸에서 사용할 수 있는 키보드 단축키.ipynb'\r\n",
      "'IPython 매직 명령어.ipynb'\r\n",
      "'IPython 추가 참고 자료.ipynb'\r\n",
      "'메모리 사용 프로파일링 %memit과 %mprun.ipynb'\r\n",
      " mprun_demo.py\r\n",
      " myscript.py\r\n",
      " \u001b[01;34mtmp\u001b[0m/\r\n",
      " \u001b[01;34mtmp1\u001b[0m/\r\n",
      " Untitled.ipynb\r\n"
     ]
    }
   ],
   "source": [
    "ls"
   ]
  },
  {
   "cell_type": "code",
   "execution_count": 32,
   "metadata": {},
   "outputs": [],
   "source": [
    "rmdir hi.txt"
   ]
  },
  {
   "cell_type": "code",
   "execution_count": 33,
   "metadata": {},
   "outputs": [
    {
     "name": "stdout",
     "output_type": "stream",
     "text": [
      " hi2.txt\r\n",
      "'입력출력 이력.ipynb'\r\n",
      "'에러와 디버깅.ipynb'\r\n",
      "'코드 프로파일링 및 시간 측정.ipynb'\r\n",
      "'셸과 노트북, 어느 것을 사용할까?.ipynb'\r\n",
      "'셸 관련 매직 명령어.ipynb'\r\n",
      "'IPython의 도움말과 문서.ipynb'\r\n",
      "'IPython과 셸 명령어.ipynb'\r\n",
      "'IPython 셸에서 사용할 수 있는 키보드 단축키.ipynb'\r\n",
      "'IPython 매직 명령어.ipynb'\r\n",
      "'IPython 추가 참고 자료.ipynb'\r\n",
      "'메모리 사용 프로파일링 %memit과 %mprun.ipynb'\r\n",
      " mprun_demo.py\r\n",
      " myscript.py\r\n",
      " \u001b[0m\u001b[01;34mtmp\u001b[0m/\r\n",
      " \u001b[01;34mtmp1\u001b[0m/\r\n",
      " Untitled.ipynb\r\n"
     ]
    }
   ],
   "source": [
    "ls"
   ]
  },
  {
   "cell_type": "code",
   "execution_count": 34,
   "metadata": {},
   "outputs": [],
   "source": [
    "more hi2.txt"
   ]
  },
  {
   "cell_type": "code",
   "execution_count": 35,
   "metadata": {},
   "outputs": [],
   "source": [
    "more myscript.py"
   ]
  },
  {
   "cell_type": "code",
   "execution_count": null,
   "metadata": {},
   "outputs": [],
   "source": []
  }
 ],
 "metadata": {
  "kernelspec": {
   "display_name": "Python 3",
   "language": "python",
   "name": "python3"
  },
  "language_info": {
   "codemirror_mode": {
    "name": "ipython",
    "version": 3
   },
   "file_extension": ".py",
   "mimetype": "text/x-python",
   "name": "python",
   "nbconvert_exporter": "python",
   "pygments_lexer": "ipython3",
   "version": "3.7.6"
  }
 },
 "nbformat": 4,
 "nbformat_minor": 4
}
