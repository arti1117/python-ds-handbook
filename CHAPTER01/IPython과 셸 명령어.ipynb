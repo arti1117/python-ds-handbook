{
 "cells": [
  {
   "cell_type": "code",
   "execution_count": 1,
   "metadata": {},
   "outputs": [
    {
     "name": "stdout",
     "output_type": "stream",
     "text": [
      "'입력출력 이력.ipynb'\r\n",
      "'에러와 디버깅.ipynb'\r\n",
      "'코드 프로파일링 및 시간 측정.ipynb'\r\n",
      "'셸과 노트북, 어느 것을 사용할까?.ipynb'\r\n",
      "'셸 관련 매직 명령어.ipynb'\r\n",
      "'IPython의 도움말과 문서.ipynb'\r\n",
      "'IPython과 셸 명령어.ipynb'\r\n",
      "'IPython 셸에서 사용할 수 있는 키보드 단축키.ipynb'\r\n",
      "'IPython 매직 명령어.ipynb'\r\n",
      "'IPython 추가 참고 자료.ipynb'\r\n",
      "'메모리 사용 프로파일링 %memit과 %mprun.ipynb'\r\n",
      " mprun_demo.py\r\n",
      " myscript.py\r\n",
      " Untitled.ipynb\r\n"
     ]
    }
   ],
   "source": [
    "!ls"
   ]
  },
  {
   "cell_type": "code",
   "execution_count": 2,
   "metadata": {},
   "outputs": [
    {
     "name": "stdout",
     "output_type": "stream",
     "text": [
      "Hello,World!\r\n"
     ]
    }
   ],
   "source": [
    "!echo \"Hello,World!\""
   ]
  },
  {
   "cell_type": "code",
   "execution_count": 3,
   "metadata": {},
   "outputs": [
    {
     "name": "stdout",
     "output_type": "stream",
     "text": [
      "/home/arti/Projects/python-ds-handbook/CHAPTER01\r\n"
     ]
    }
   ],
   "source": [
    "!pwd"
   ]
  },
  {
   "cell_type": "code",
   "execution_count": 4,
   "metadata": {},
   "outputs": [],
   "source": [
    "contents = !ls"
   ]
  },
  {
   "cell_type": "code",
   "execution_count": 5,
   "metadata": {},
   "outputs": [
    {
     "name": "stdout",
     "output_type": "stream",
     "text": [
      "['입력출력 이력.ipynb', '에러와 디버깅.ipynb', '코드 프로파일링 및 시간 측정.ipynb', '셸과 노트북, 어느 것을 사용할까?.ipynb', '셸 관련 매직 명령어.ipynb', 'IPython의 도움말과 문서.ipynb', 'IPython과 셸 명령어.ipynb', 'IPython 셸에서 사용할 수 있는 키보드 단축키.ipynb', 'IPython 매직 명령어.ipynb', 'IPython 추가 참고 자료.ipynb', '메모리 사용 프로파일링 %memit과 %mprun.ipynb', 'mprun_demo.py', 'myscript.py', 'Untitled.ipynb']\n"
     ]
    }
   ],
   "source": [
    "print(contents)"
   ]
  },
  {
   "cell_type": "code",
   "execution_count": 6,
   "metadata": {},
   "outputs": [
    {
     "data": {
      "text/plain": [
       "IPython.utils.text.SList"
      ]
     },
     "execution_count": 6,
     "metadata": {},
     "output_type": "execute_result"
    }
   ],
   "source": [
    "type(contents)"
   ]
  },
  {
   "cell_type": "code",
   "execution_count": 7,
   "metadata": {},
   "outputs": [],
   "source": [
    "message = \"hello, world\""
   ]
  },
  {
   "cell_type": "code",
   "execution_count": 8,
   "metadata": {},
   "outputs": [
    {
     "name": "stdout",
     "output_type": "stream",
     "text": [
      "hello, world\r\n"
     ]
    }
   ],
   "source": [
    "!echo {message}"
   ]
  },
  {
   "cell_type": "code",
   "execution_count": 9,
   "metadata": {},
   "outputs": [
    {
     "data": {
      "text/plain": [
       "['입력출력 이력.ipynb']"
      ]
     },
     "execution_count": 9,
     "metadata": {},
     "output_type": "execute_result"
    }
   ],
   "source": [
    "contents.grep('입력')"
   ]
  },
  {
   "cell_type": "code",
   "execution_count": 10,
   "metadata": {},
   "outputs": [
    {
     "data": {
      "text/plain": [
       "[['입력출력', '이력.ipynb'],\n",
       " ['에러와', '디버깅.ipynb'],\n",
       " ['코드', '프로파일링', '및', '시간', '측정.ipynb'],\n",
       " ['셸과', '노트북,', '어느', '것을', '사용할까?.ipynb'],\n",
       " ['셸', '관련', '매직', '명령어.ipynb'],\n",
       " ['IPython의', '도움말과', '문서.ipynb'],\n",
       " ['IPython과', '셸', '명령어.ipynb'],\n",
       " ['IPython', '셸에서', '사용할', '수', '있는', '키보드', '단축키.ipynb'],\n",
       " ['IPython', '매직', '명령어.ipynb'],\n",
       " ['IPython', '추가', '참고', '자료.ipynb'],\n",
       " ['메모리', '사용', '프로파일링', '%memit과', '%mprun.ipynb'],\n",
       " ['mprun_demo.py'],\n",
       " ['myscript.py'],\n",
       " ['Untitled.ipynb']]"
      ]
     },
     "execution_count": 10,
     "metadata": {},
     "output_type": "execute_result"
    }
   ],
   "source": [
    "contents.fields()"
   ]
  },
  {
   "cell_type": "code",
   "execution_count": 11,
   "metadata": {},
   "outputs": [],
   "source": [
    "!cd"
   ]
  },
  {
   "cell_type": "code",
   "execution_count": 12,
   "metadata": {},
   "outputs": [
    {
     "name": "stdout",
     "output_type": "stream",
     "text": [
      "/home/arti/Projects/python-ds-handbook/CHAPTER01\r\n"
     ]
    }
   ],
   "source": [
    "!pwd"
   ]
  },
  {
   "cell_type": "code",
   "execution_count": 13,
   "metadata": {},
   "outputs": [],
   "source": [
    "!cd .."
   ]
  },
  {
   "cell_type": "code",
   "execution_count": 14,
   "metadata": {},
   "outputs": [
    {
     "name": "stdout",
     "output_type": "stream",
     "text": [
      "/home/arti/Projects/python-ds-handbook/CHAPTER01\r\n"
     ]
    }
   ],
   "source": [
    "!pwd"
   ]
  },
  {
   "cell_type": "code",
   "execution_count": 15,
   "metadata": {},
   "outputs": [
    {
     "name": "stdout",
     "output_type": "stream",
     "text": [
      "/home/arti/Projects/python-ds-handbook\n"
     ]
    }
   ],
   "source": [
    "%cd .."
   ]
  },
  {
   "cell_type": "code",
   "execution_count": 16,
   "metadata": {},
   "outputs": [
    {
     "name": "stdout",
     "output_type": "stream",
     "text": [
      "/home/arti/Projects/python-ds-handbook/CHAPTER01\n"
     ]
    }
   ],
   "source": [
    "%cd CHAPTER01"
   ]
  },
  {
   "cell_type": "code",
   "execution_count": 17,
   "metadata": {},
   "outputs": [],
   "source": [
    "mkdir tmp"
   ]
  },
  {
   "cell_type": "code",
   "execution_count": 18,
   "metadata": {},
   "outputs": [
    {
     "name": "stdout",
     "output_type": "stream",
     "text": [
      "'입력출력 이력.ipynb'\r\n",
      "'에러와 디버깅.ipynb'\r\n",
      "'코드 프로파일링 및 시간 측정.ipynb'\r\n",
      "'셸과 노트북, 어느 것을 사용할까?.ipynb'\r\n",
      "'셸 관련 매직 명령어.ipynb'\r\n",
      "'IPython의 도움말과 문서.ipynb'\r\n",
      "'IPython과 셸 명령어.ipynb'\r\n",
      "'IPython 셸에서 사용할 수 있는 키보드 단축키.ipynb'\r\n",
      "'IPython 매직 명령어.ipynb'\r\n",
      "'IPython 추가 참고 자료.ipynb'\r\n",
      "'메모리 사용 프로파일링 %memit과 %mprun.ipynb'\r\n",
      " mprun_demo.py\r\n",
      " myscript.py\r\n",
      " \u001b[0m\u001b[01;34mtmp\u001b[0m/\r\n",
      " Untitled.ipynb\r\n"
     ]
    }
   ],
   "source": [
    "ls"
   ]
  },
  {
   "cell_type": "code",
   "execution_count": 19,
   "metadata": {},
   "outputs": [],
   "source": [
    "cp Untitled.ipynb tmp/"
   ]
  },
  {
   "cell_type": "code",
   "execution_count": 20,
   "metadata": {},
   "outputs": [
    {
     "name": "stdout",
     "output_type": "stream",
     "text": [
      "'입력출력 이력.ipynb'\r\n",
      "'에러와 디버깅.ipynb'\r\n",
      "'코드 프로파일링 및 시간 측정.ipynb'\r\n",
      "'셸과 노트북, 어느 것을 사용할까?.ipynb'\r\n",
      "'셸 관련 매직 명령어.ipynb'\r\n",
      "'IPython의 도움말과 문서.ipynb'\r\n",
      "'IPython과 셸 명령어.ipynb'\r\n",
      "'IPython 셸에서 사용할 수 있는 키보드 단축키.ipynb'\r\n",
      "'IPython 매직 명령어.ipynb'\r\n",
      "'IPython 추가 참고 자료.ipynb'\r\n",
      "'메모리 사용 프로파일링 %memit과 %mprun.ipynb'\r\n",
      " mprun_demo.py\r\n",
      " myscript.py\r\n",
      " \u001b[0m\u001b[01;34mtmp\u001b[0m/\r\n",
      " Untitled.ipynb\r\n"
     ]
    }
   ],
   "source": [
    "ls"
   ]
  },
  {
   "cell_type": "code",
   "execution_count": 21,
   "metadata": {},
   "outputs": [
    {
     "name": "stdout",
     "output_type": "stream",
     "text": [
      "/home/arti/Projects/python-ds-handbook/CHAPTER01/tmp\n"
     ]
    }
   ],
   "source": [
    "cd tmp"
   ]
  },
  {
   "cell_type": "code",
   "execution_count": 22,
   "metadata": {},
   "outputs": [
    {
     "name": "stdout",
     "output_type": "stream",
     "text": [
      "Untitled.ipynb\r\n"
     ]
    }
   ],
   "source": [
    "ls"
   ]
  },
  {
   "cell_type": "code",
   "execution_count": 23,
   "metadata": {},
   "outputs": [
    {
     "name": "stdout",
     "output_type": "stream",
     "text": [
      "/home/arti/Projects/python-ds-handbook/CHAPTER01\n"
     ]
    }
   ],
   "source": [
    "cd .."
   ]
  },
  {
   "cell_type": "code",
   "execution_count": null,
   "metadata": {},
   "outputs": [],
   "source": []
  }
 ],
 "metadata": {
  "kernelspec": {
   "display_name": "Python 3",
   "language": "python",
   "name": "python3"
  },
  "language_info": {
   "codemirror_mode": {
    "name": "ipython",
    "version": 3
   },
   "file_extension": ".py",
   "mimetype": "text/x-python",
   "name": "python",
   "nbconvert_exporter": "python",
   "pygments_lexer": "ipython3",
   "version": "3.7.6"
  }
 },
 "nbformat": 4,
 "nbformat_minor": 4
}
