{
 "cells": [
  {
   "cell_type": "markdown",
   "metadata": {},
   "source": [
    "Ctrl-a: 커서를 줄의 맨 앞으로 옮김 <br>\n",
    "Ctrl-e: 커서를 줄의 맨 뒤로 옮김 <br>\n",
    "Ctrl-b: 커서를 한 글자 뒤로 옮김 <br>\n",
    "Ctrl-f: 커서를 한 글자 앞으로 옮김"
   ]
  },
  {
   "cell_type": "markdown",
   "metadata": {},
   "source": [
    "Backspace: 그 줄의 이전 문자 삭제 <br>\n",
    "Ctrl-d: 그 줄의 다음 문자 삭제 <br>\n",
    "Ctrl-k: 현재 커서 위치에서 그 줄 마지막까지 텍스트를 잘라냄 <br>\n",
    "Ctrl-u: 그 줄의 처음부터 현재 커서 위치까지 텍스트를 잘라냄 <br>\n",
    "Ctrl-y: 이전에 잘라낸 텍스트를 끌어당김(yank, 즉 붙여넣기 함) <br>\n",
    "Ctrl-t: 앞의 두 글자의 위치를 바꿈"
   ]
  },
  {
   "cell_type": "markdown",
   "metadata": {},
   "source": [
    "Ctrl-p: 이력에서 이전 명령어에 접근 <br>\n",
    "Ctrl-n: 이력에서 다음 명령어에 접근 <br>\n",
    "Ctrl-r: 명령어 이력을 역탐색"
   ]
  },
  {
   "cell_type": "markdown",
   "metadata": {},
   "source": [
    "Ctrl-l: 터미널 화면을 지움 <br>\n",
    "Ctrl-c: 현재 파이썬 명령어를 중단 <br>\n",
    "Ctrl-d: IPython 세션을 종료"
   ]
  },
  {
   "cell_type": "code",
   "execution_count": null,
   "metadata": {},
   "outputs": [],
   "source": []
  }
 ],
 "metadata": {
  "kernelspec": {
   "display_name": "Python 3",
   "language": "python",
   "name": "python3"
  },
  "language_info": {
   "codemirror_mode": {
    "name": "ipython",
    "version": 3
   },
   "file_extension": ".py",
   "mimetype": "text/x-python",
   "name": "python",
   "nbconvert_exporter": "python",
   "pygments_lexer": "ipython3",
   "version": "3.7.6"
  }
 },
 "nbformat": 4,
 "nbformat_minor": 4
}
